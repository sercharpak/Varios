{
 "cells": [
  {
   "cell_type": "code",
   "execution_count": 1,
   "metadata": {
    "collapsed": false
   },
   "outputs": [
    {
     "name": "stdout",
     "output_type": "stream",
     "text": [
      "Populating the interactive namespace from numpy and matplotlib\n"
     ]
    }
   ],
   "source": [
    "%pylab inline\n",
    "import numpy as np\n",
    "import matplotlib.pyplot as plt\n",
    "import time"
   ]
  },
  {
   "cell_type": "markdown",
   "metadata": {},
   "source": [
    "# Analisis evolutivo de insectos transgenicos de la especie <i>Rhodnius prolixus</i> en el tratamiento de la enfermedad de Chagas"
   ]
  },
  {
   "cell_type": "markdown",
   "metadata": {},
   "source": [
    "## Introduccion"
   ]
  },
  {
   "cell_type": "markdown",
   "metadata": {},
   "source": [
    "Realizado en conjunto con <strong>Nancy Estefania Ruiz Uribe</strong>. Notebook para describir un modelo evolutivo para los vectores con las diferentes bacterias modificadas en el marco del proyecto de <i>Biologia Sintetica</i> para el semestre 2015-1 dictado por <i>Juan Manuel Pedraza</i>. "
   ]
  },
  {
   "cell_type": "markdown",
   "metadata": {},
   "source": [
    "Nos interesa observar la evolucion en el tiempo de las poblaciones de vectores."
   ]
  },
  {
   "cell_type": "markdown",
   "metadata": {},
   "source": [
    "Nos basamos en el Algoritmo de Gillepsie desarrollado para la tarea 3."
   ]
  },
  {
   "cell_type": "markdown",
   "metadata": {},
   "source": [
    "Tenemos poblaciones de:\n",
    "<ul>\n",
    "<li>Vectores <strong>sin bacterias</strong>  modificadas</li>\n",
    "<li>Vectores con <strong>E.Coli</strong> modificada</li>\n",
    "<li>Vectores con <strong>R.Rhodni</strong> modificada</li>\n",
    "<li>Vectores con <strong>Salmonella Enterica</strong> modificada</li>\n",
    "</ul>"
   ]
  },
  {
   "cell_type": "markdown",
   "metadata": {},
   "source": [
    "##Constantes"
   ]
  },
  {
   "cell_type": "markdown",
   "metadata": {},
   "source": [
    "Encontrar constantes (valores numericos) es todo un reto. En efecto para encontrar estas constantes se debe realizar un importante trabajo experimental y, muchas veces, este no ha sido realizado aun."
   ]
  },
  {
   "cell_type": "markdown",
   "metadata": {},
   "source": [
    "Nuestras constante seran entonces, en un primero momento, proporcionales a las constantes de las bacterias (fitness)."
   ]
  },
  {
   "cell_type": "code",
   "execution_count": null,
   "metadata": {
    "collapsed": true
   },
   "outputs": [],
   "source": [
    "#Constantes"
   ]
  },
  {
   "cell_type": "code",
   "execution_count": null,
   "metadata": {
    "collapsed": true
   },
   "outputs": [],
   "source": [
    "def evento_gillepsie(num_rna,num_prot,t,k_r,k_p,gamma_p,gamma_r):\n",
    "    e1=np.random.random() #se crea un numero aleatorio entre 0 y 1 mediante una distribucion uniforme \n",
    "    #Normalicemos las constantes\n",
    "    k_total=k_r+k_p*num_rna+gamma_p*num_prot+gamma_r*num_rna\n",
    "    paso_t=np.random.exponential()/(k_total)\n",
    "    t_nuevo=t+paso_t\n",
    "    #Ahora mimremos que tipo de evento sucedio\n",
    "    if(e1<(k_r/k_total)):#Habemus rna\n",
    "        num_rna_nuevo=num_rna+1.0\n",
    "        num_prot_nuevo=num_prot\n",
    "    elif((e1<((k_r+gamma_r*num_rna)/k_total)) and (e1>=(k_r/k_total))):#Destruimos Rna\n",
    "        num_rna_nuevo=num_rna-1.0\n",
    "        num_prot_nuevo=num_prot\n",
    "    elif((e1<((k_r+k_p*num_rna+gamma_r*num_rna)/k_total)) and (e1>=((k_r+gamma_r*num_rna)/k_total))):#HAbemus proteina\n",
    "        num_rna_nuevo=num_rna\n",
    "        num_prot_nuevo=num_prot+1.0\n",
    "    else:#Destruimos proteina\n",
    "        num_rna_nuevo=num_rna\n",
    "        num_prot_nuevo=num_prot-1.0\n",
    "    return num_rna_nuevo, num_prot_nuevo,t_nuevo\n",
    "\n",
    "def simulacion_gillepsie(num_cells,t_limite,delta_t,k_r,k_p,gamma_r,gamma_p):\n",
    "    contador_cells=0.0\n",
    "    num_puntos=int(t_limite/delta_t)\n",
    "    matriz_rna=np.zeros((num_cells,num_puntos))\n",
    "    matriz_prot=np.zeros((num_cells,num_puntos))\n",
    "    \n",
    "    while (contador_cells<num_cells):\n",
    "        num_rna=0.0\n",
    "        num_prot=0.0\n",
    "        t_total=0.0\n",
    "        t_walk=[]\n",
    "        r_walk=[]\n",
    "        prot_walk=[]\n",
    "        while (t_total<t_limite):\n",
    "            num_rna, num_prot,t_total=evento_gillepsie(num_rna,num_prot,t_total,k_r,k_p,gamma_p,gamma_r)\n",
    "            t_walk.append(t_total)\n",
    "            r_walk.append(num_rna)\n",
    "            prot_walk.append(num_prot)\n",
    "        #Ahora se deben reformar los arreglos por los tiempos\n",
    "        t_final = np.linspace(0, t_limite-delta_t, t_limite/delta_t)\n",
    "        r_final = np.zeros(len(t_final))\n",
    "        prot_final = np.zeros(len(t_final))\n",
    "        pos=0\n",
    "        for i in range (len(t_final)):\n",
    "            while((t_walk[pos] < t_final[i])&((pos+1)<len(prot_walk))):\n",
    "                pos=pos+1\n",
    "            r_final[i] = r_walk[pos]\n",
    "            prot_final[i] = prot_walk[pos]\n",
    "        matriz_rna[contador_cells]=r_final\n",
    "        matriz_prot[contador_cells]=prot_final\n",
    "        contador_cells=contador_cells+1.0\n",
    "    \n",
    "    #Ahora calculamos la media y la desviacion\n",
    "    r_mean=np.zeros(num_puntos)\n",
    "    r_std=np.zeros(num_puntos)\n",
    "    prot_mean=np.zeros(num_puntos)\n",
    "    prot_std=np.zeros(num_puntos)\n",
    "    for i in range(num_puntos):\n",
    "        r_mean[i]=np.mean(matriz_rna[:,i])\n",
    "        r_std[i]=np.std(matriz_rna[:,i])\n",
    "        prot_mean[i]=np.mean(matriz_prot[:,i])\n",
    "        prot_std[i]=np.std(matriz_prot[:,i])\n",
    "        \n",
    "        \n",
    "    return t_final, matriz_rna, matriz_prot, r_mean, r_std,prot_mean,prot_std"
   ]
  }
 ],
 "metadata": {
  "kernelspec": {
   "display_name": "Python 2",
   "language": "python",
   "name": "python2"
  },
  "language_info": {
   "codemirror_mode": {
    "name": "ipython",
    "version": 2
   },
   "file_extension": ".py",
   "mimetype": "text/x-python",
   "name": "python",
   "nbconvert_exporter": "python",
   "pygments_lexer": "ipython2",
   "version": "2.7.3"
  }
 },
 "nbformat": 4,
 "nbformat_minor": 0
}
