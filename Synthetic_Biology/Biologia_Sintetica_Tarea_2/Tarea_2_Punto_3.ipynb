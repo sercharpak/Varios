{
 "metadata": {
  "name": ""
 },
 "nbformat": 3,
 "nbformat_minor": 0,
 "worksheets": [
  {
   "cells": [
    {
     "cell_type": "code",
     "collapsed": false,
     "input": [
      "#Codigo realizado para completar el punto 3 de la tarea 2 de Biologia Sintetica en el semestre 2015-I en Uniandes\n",
      "#Codigo realizado por Sergio Hernandez"
     ],
     "language": "python",
     "metadata": {},
     "outputs": [],
     "prompt_number": 1
    },
    {
     "cell_type": "code",
     "collapsed": false,
     "input": [
      "import numpy as np\n",
      "import matplotlib.pyplot as plt"
     ],
     "language": "python",
     "metadata": {},
     "outputs": [],
     "prompt_number": 3
    },
    {
     "cell_type": "markdown",
     "metadata": {},
     "source": [
      "Numeral a: Para la ecuaci\u00f3n de diferencia $x_{i+1} = -3 x_i (x_i - 1 ) $ dibuje las trayectorias para dos puntos iniciales cualquiera en el espacio de fase $x_{i+1}$ vs. $x_i$ y en el plano $x_i$  vs.$i$. "
     ]
    },
    {
     "cell_type": "markdown",
     "metadata": {},
     "source": [
      "Podemos observar que tenemos la libertad de escoger los puntos iniciales. Vamos a escoger dos puntos aleatorios enteros entre 0 y 20 y vamos a graficar la secuencia para 100 puntos."
     ]
    },
    {
     "cell_type": "code",
     "collapsed": false,
     "input": [
      "puntos_iniciales_int=np.random.randint(20, size=2)"
     ],
     "language": "python",
     "metadata": {},
     "outputs": [],
     "prompt_number": 41
    },
    {
     "cell_type": "code",
     "collapsed": false,
     "input": [
      "print \"Los puntos iniciales son: \"+str(puntos_iniciales_int)"
     ],
     "language": "python",
     "metadata": {},
     "outputs": [
      {
       "output_type": "stream",
       "stream": "stdout",
       "text": [
        "Los puntos iniciales son: [9 1]\n"
       ]
      }
     ],
     "prompt_number": 42
    },
    {
     "cell_type": "code",
     "collapsed": false,
     "input": [
      "#Inicializamos\n",
      "x_i_1_punto_1=np.zeros(100)\n",
      "x_i_punto_1=np.zeros(100)\n",
      "x_i_1_punto_2=np.zeros(100)\n",
      "x_i_punto_2=np.zeros(100)\n",
      "arreglo_i=np.zeros(100)\n",
      "x_i_punto_1[0]=puntos_iniciales_int[0]\n",
      "x_i_punto_2[0]=puntos_iniciales_int[1]\n",
      "#Arranquemos\n",
      "for i in range (1,100):\n",
      "    x_i_1_punto_1[i]= - 3 * x_i_punto_1[i-1] * (x_i_punto_1[i-1] -1)\n",
      "    x_i_punto_1[i]=x_i_1_punto_1[i]\n",
      "    x_i_1_punto_2[i]= - 3 * x_i_punto_2[i-1] * (x_i_punto_2[i-1] -1)\n",
      "    x_i_punto_2[i]=x_i_1_punto_2[i]\n",
      "    arreglo_i[i]=i"
     ],
     "language": "python",
     "metadata": {},
     "outputs": [],
     "prompt_number": 49
    },
    {
     "cell_type": "code",
     "collapsed": false,
     "input": [
      "#Ahora grafiquemos\n",
      "#Primer Punto\n",
      "plt.figure(1)\n",
      "plt.plot(x_i_punto_1,x_i_1_punto_1)\n",
      "plt.xlabel(\"$x_{i}$\")\n",
      "plt.ylabel(\"$x_{i+1}$\")\n",
      "plt.title(\"$x_{i+1}$ vs. $x_{i}$ para $x_{i+1} = -3 x_i (x_i - 1 ) $ con punto inicial: \"+str(puntos_iniciales_int[0]))\n",
      "plt.savefig('Punto_3_a_x_i_1_vs_x_i_Iniciando_'+str(puntos_iniciales_int[0])+'.png')\n",
      "plt.figure(2)\n",
      "plt.plot(arreglo_i,x_i_1_punto_1)\n",
      "plt.xlabel(\"$i$\")\n",
      "plt.ylabel(\"$x_{i+1}$\")\n",
      "plt.title(\"$x_{i+1}$ vs. $i$ para $x_{i+1} = -3 x_i (x_i - 1 ) $ con punto inicial: \"+str(puntos_iniciales_int[0]))\n",
      "plt.savefig('Punto_3_a_x_i_1_vs_i_Iniciando_'+str(puntos_iniciales_int[0])+'.png')\n",
      "#Segundo Punto\n",
      "plt.figure(3)\n",
      "plt.plot(x_i_punto_2,x_i_1_punto_2)\n",
      "plt.xlabel(\"$x_{i}$\")\n",
      "plt.ylabel(\"$x_{i+1}$\")\n",
      "plt.title(\"$x_{i+1}$ vs. $x_{i}$ para $x_{i+1} = -3 x_i (x_i - 1 ) $ con punto inicial: \"+str(puntos_iniciales_int[1]))\n",
      "plt.savefig('Punto_3_a_x_i_1_vs_x_i_Iniciando_'+str(puntos_iniciales_int[1])+'.png')\n",
      "plt.figure(4)\n",
      "plt.plot(arreglo_i,x_i_1_punto_2)\n",
      "plt.xlabel(\"$i$\")\n",
      "plt.ylabel(\"$x_{i+1}$\")\n",
      "plt.title(\"$x_{i+1}$ vs. $i$ para $x_{i+1} = -3 x_i (x_i - 1 ) $ con punto inicial: \"+str(puntos_iniciales_int[1]))\n",
      "plt.savefig('Punto_3_a_x_i_1_vs_i_Iniciando_'+str(puntos_iniciales_int[1])+'.png')\n",
      "plt.show()"
     ],
     "language": "python",
     "metadata": {},
     "outputs": [],
     "prompt_number": 50
    },
    {
     "cell_type": "markdown",
     "metadata": {},
     "source": [
      "Se puede observar que no se puede sacar muchas conclusiones al respecto. Salvo que si el punto inicial es 1 no mucho ocurre. Se sospecha que se debe a la divergencia de la ecuacion de diferencia. Vamos a escoger dos numeros aleatorios entre 0 y 1 para que converja."
     ]
    },
    {
     "cell_type": "code",
     "collapsed": false,
     "input": [
      "puntos_iniciales=np.random.random(2)\n",
      "print \"Ahora los puntos iniciales son: \"+str(puntos_iniciales)"
     ],
     "language": "python",
     "metadata": {},
     "outputs": [
      {
       "output_type": "stream",
       "stream": "stdout",
       "text": [
        "Ahora los puntos iniciales son: [ 0.7245485   0.53990948]\n"
       ]
      }
     ],
     "prompt_number": 27
    },
    {
     "cell_type": "code",
     "collapsed": false,
     "input": [
      "#Inicializamos\n",
      "x_i_1_punto_1=np.zeros(100)\n",
      "x_i_punto_1=np.zeros(100)\n",
      "x_i_1_punto_2=np.zeros(100)\n",
      "x_i_punto_2=np.zeros(100)\n",
      "arreglo_i=np.zeros(100)\n",
      "x_i_punto_1[0]=puntos_iniciales[0]\n",
      "x_i_punto_2[0]=puntos_iniciales[1]\n",
      "#Arranquemos\n",
      "for i in range (1,100):\n",
      "    x_i_1_punto_1[i]= - 3 * x_i_punto_1[i-1] * (x_i_punto_1[i-1] -1)\n",
      "    x_i_punto_1[i]=x_i_1_punto_1[i]\n",
      "    x_i_1_punto_2[i]= - 3 * x_i_punto_2[i-1] * (x_i_punto_2[i-1] -1)\n",
      "    x_i_punto_2[i]=x_i_1_punto_2[i]\n",
      "    arreglo_i[i]=i"
     ],
     "language": "python",
     "metadata": {},
     "outputs": [],
     "prompt_number": 51
    },
    {
     "cell_type": "code",
     "collapsed": false,
     "input": [
      "#Ahora grafiquemos\n",
      "#Primer Punto\n",
      "plt.figure(5)\n",
      "plt.plot(x_i_punto_1,x_i_1_punto_1)\n",
      "plt.xlabel(\"$x_{i}$\")\n",
      "plt.ylabel(\"$x_{i+1}$\")\n",
      "plt.title(\"$x_{i+1}$ vs. $x_{i}$ para $x_{i+1} = -3 x_i (x_i - 1 ) $ con punto inicial: \"+str(puntos_iniciales[0]))\n",
      "plt.savefig('Punto_3_a_x_i_1_vs_x_i_Iniciando_'+str(puntos_iniciales[0])+'.png')\n",
      "plt.figure(6)\n",
      "plt.plot(arreglo_i,x_i_1_punto_1)\n",
      "plt.xlabel(\"$i$\")\n",
      "plt.ylabel(\"$x_{i+1}$\")\n",
      "plt.title(\"$x_{i+1}$ vs. $i$ para $x_{i+1} = -3 x_i (x_i - 1 ) $ con punto inicial: \"+str(puntos_iniciales[0]))\n",
      "plt.savefig('Punto_3_a_x_i_1_vs_i_Iniciando_'+str(puntos_iniciales[0])+'.png')\n",
      "#Segundo Punto\n",
      "plt.figure(7)\n",
      "plt.plot(x_i_punto_2,x_i_1_punto_2)\n",
      "plt.xlabel(\"$x_{i}$\")\n",
      "plt.ylabel(\"$x_{i+1}$\")\n",
      "plt.title(\"$x_{i+1}$ vs. $x_{i}$ para $x_{i+1} = -3 x_i (x_i - 1 ) $ con punto inicial: \"+str(puntos_iniciales[1]))\n",
      "plt.savefig('Punto_3_a_x_i_1_vs_x_i_Iniciando_'+str(puntos_iniciales[1])+'.png')\n",
      "plt.figure(8)\n",
      "plt.plot(arreglo_i,x_i_1_punto_2)\n",
      "plt.xlabel(\"$i$\")\n",
      "plt.ylabel(\"$x_{i+1}$\")\n",
      "plt.title(\"$x_{i+1}$ vs. $i$ para $x_{i+1} = -3 x_i (x_i - 1 ) $ con punto inicial: \"+str(puntos_iniciales[1]))\n",
      "plt.savefig('Punto_3_a_x_i_1_vs_i_Iniciando_'+str(puntos_iniciales[1])+'.png')\n",
      "plt.show()"
     ],
     "language": "python",
     "metadata": {},
     "outputs": [],
     "prompt_number": 53
    },
    {
     "cell_type": "markdown",
     "metadata": {},
     "source": [
      "Podemos observar que el comportamiento si el punto inicial esta entre 0 y 1 es oscilatorio luego de cierto numero de iteraciones."
     ]
    },
    {
     "cell_type": "markdown",
     "metadata": {},
     "source": [
      "Numeral b: Para la ecuaci\u00f3n de diferencia $x_{i+1}=4 x_i (x_i - 1)$, dibuje las trayectorias para dos puntos iniciales cualquiera en el espacio de fase $x_{i+1}$ vs. $x_i $y en el plano $x_i$  vs.$i$."
     ]
    },
    {
     "cell_type": "markdown",
     "metadata": {},
     "source": [
      "Vamos a repetir exactamente el mismo procedimiento que en el numeral anterior."
     ]
    },
    {
     "cell_type": "code",
     "collapsed": false,
     "input": [
      "puntos_iniciales_int=np.random.randint(20, size=2)\n",
      "print \"Los puntos iniciales son: \"+str(puntos_iniciales_int)"
     ],
     "language": "python",
     "metadata": {},
     "outputs": [
      {
       "output_type": "stream",
       "stream": "stdout",
       "text": [
        "Los puntos iniciales son: [12  9]\n"
       ]
      }
     ],
     "prompt_number": 67
    },
    {
     "cell_type": "code",
     "collapsed": false,
     "input": [
      "#Inicializamos\n",
      "x_i_1_punto_1=np.zeros(100)\n",
      "x_i_punto_1=np.zeros(100)\n",
      "x_i_1_punto_2=np.zeros(100)\n",
      "x_i_punto_2=np.zeros(100)\n",
      "arreglo_i=np.zeros(100)\n",
      "x_i_punto_1[0]=puntos_iniciales_int[0]\n",
      "x_i_punto_2[0]=puntos_iniciales_int[1]\n",
      "#Arranquemos\n",
      "for i in range (1,100):\n",
      "    x_i_1_punto_1[i]= -4 * x_i_punto_1[i-1] * (x_i_punto_1[i-1] -1)\n",
      "    x_i_punto_1[i]=x_i_1_punto_1[i]\n",
      "    x_i_1_punto_2[i]= -4 * x_i_punto_2[i-1] * (x_i_punto_2[i-1] -1)\n",
      "    x_i_punto_2[i]=x_i_1_punto_2[i]\n",
      "    arreglo_i[i]=i"
     ],
     "language": "python",
     "metadata": {},
     "outputs": [],
     "prompt_number": 92
    },
    {
     "cell_type": "code",
     "collapsed": false,
     "input": [
      "#Ahora grafiquemos\n",
      "#Primer Punto\n",
      "plt.figure(9)\n",
      "plt.plot(x_i_punto_1,x_i_1_punto_1)\n",
      "plt.xlabel(\"$x_{i}$\")\n",
      "plt.ylabel(\"$x_{i+1}$\")\n",
      "plt.title(\"$x_{i+1}$ vs. $x_{i}$ para $x_{i+1} = -4 x_i (x_i - 1 ) $ con punto inicial: \"+str(puntos_iniciales_int[0]))\n",
      "plt.savefig('Punto_3_b_x_i_1_vs_x_i_Iniciando_'+str(puntos_iniciales_int[0])+'.png')\n",
      "plt.figure(10)\n",
      "plt.plot(arreglo_i,x_i_1_punto_1)\n",
      "plt.xlabel(\"$i$\")\n",
      "plt.ylabel(\"$x_{i+1}$\")\n",
      "plt.title(\"$x_{i+1}$ vs. $i$ para $x_{i+1} = -4 x_i (x_i - 1 ) $ con punto inicial: \"+str(puntos_iniciales_int[0]))\n",
      "plt.savefig('Punto_3_b_x_i_1_vs_i_Iniciando_'+str(puntos_iniciales_int[0])+'.png')\n",
      "#Segundo Punto\n",
      "plt.figure(11)\n",
      "plt.plot(x_i_punto_2,x_i_1_punto_2)\n",
      "plt.xlabel(\"$x_{i}$\")\n",
      "plt.ylabel(\"$x_{i+1}$\")\n",
      "plt.title(\"$x_{i+1}$ vs. $x_{i}$ para $x_{i+1} = -4 x_i (x_i - 1 ) $ con punto inicial: \"+str(puntos_iniciales_int[1]))\n",
      "plt.savefig('Punto_3_b_x_i_1_vs_x_i_Iniciando_'+str(puntos_iniciales_int[1])+'.png')\n",
      "plt.figure(12)\n",
      "plt.plot(arreglo_i,x_i_1_punto_2)\n",
      "plt.xlabel(\"$i$\")\n",
      "plt.ylabel(\"$x_{i+1}$\")\n",
      "plt.title(\"$x_{i+1}$ vs. $i$ para $x_{i+1} = -4 x_i (x_i - 1 ) $ con punto inicial: \"+str(puntos_iniciales_int[1]))\n",
      "plt.savefig('Punto_3_b_x_i_1_vs_i_Iniciando_'+str(puntos_iniciales_int[1])+'.png')\n",
      "plt.show()"
     ],
     "language": "python",
     "metadata": {},
     "outputs": [],
     "prompt_number": 93
    },
    {
     "cell_type": "code",
     "collapsed": false,
     "input": [
      "puntos_iniciales=np.random.random(2)\n",
      "print \"Ahora los puntos iniciales son: \"+str(puntos_iniciales)"
     ],
     "language": "python",
     "metadata": {},
     "outputs": [
      {
       "output_type": "stream",
       "stream": "stdout",
       "text": [
        "Ahora los puntos iniciales son: [ 0.86985448  0.51859054]\n"
       ]
      }
     ],
     "prompt_number": 70
    },
    {
     "cell_type": "code",
     "collapsed": false,
     "input": [
      "#Inicializamos\n",
      "x_i_1_punto_1=np.zeros(100)\n",
      "x_i_punto_1=np.zeros(100)\n",
      "x_i_1_punto_2=np.zeros(100)\n",
      "x_i_punto_2=np.zeros(100)\n",
      "arreglo_i=np.zeros(100)\n",
      "x_i_punto_1[0]=puntos_iniciales[0]\n",
      "x_i_punto_2[0]=puntos_iniciales[1]\n",
      "#Arranquemos\n",
      "for i in range (1,100):\n",
      "    x_i_1_punto_1[i]= -4.0 * x_i_punto_1[i-1] * (x_i_punto_1[i-1] -1)\n",
      "    x_i_punto_1[i]=x_i_1_punto_1[i]\n",
      "    x_i_1_punto_2[i]= -4.0 * x_i_punto_2[i-1] * (x_i_punto_2[i-1] -1)\n",
      "    x_i_punto_2[i]=x_i_1_punto_2[i]\n",
      "    arreglo_i[i]=i"
     ],
     "language": "python",
     "metadata": {},
     "outputs": [],
     "prompt_number": 94
    },
    {
     "cell_type": "code",
     "collapsed": false,
     "input": [
      "#Ahora grafiquemos\n",
      "#Primer Punto\n",
      "plt.figure(13)\n",
      "plt.plot(x_i_punto_1,x_i_1_punto_1)\n",
      "plt.xlabel(\"$x_{i}$\")\n",
      "plt.ylabel(\"$x_{i+1}$\")\n",
      "plt.title(\"$x_{i+1}$ vs. $x_{i}$ para $x_{i+1} = -4 x_i (x_i - 1 ) $ con punto inicial: \"+str(puntos_iniciales[0]))\n",
      "plt.savefig('Punto_3_b_x_i_1_vs_x_i_Iniciando_'+str(puntos_iniciales[0])+'.png')\n",
      "plt.figure(14)\n",
      "plt.plot(arreglo_i,x_i_1_punto_1)\n",
      "plt.xlabel(\"$i$\")\n",
      "plt.ylabel(\"$x_{i+1}$\")\n",
      "plt.title(\"$x_{i+1}$ vs. $i$ para $x_{i+1} = -4 x_i (x_i - 1 ) $ con punto inicial: \"+str(puntos_iniciales[0]))\n",
      "plt.savefig('Punto_3_b_x_i_1_vs_i_Iniciando_'+str(puntos_iniciales[0])+'.png')\n",
      "#Segundo Punto\n",
      "plt.figure(15)\n",
      "plt.plot(x_i_punto_2,x_i_1_punto_2)\n",
      "plt.xlabel(\"$x_{i}$\")\n",
      "plt.ylabel(\"$x_{i+1}$\")\n",
      "plt.title(\"$x_{i+1}$ vs. $x_{i}$ para $x_{i+1} = -4 x_i (x_i - 1 ) $ con punto inicial: \"+str(puntos_iniciales[1]))\n",
      "plt.savefig('Punto_3_b_x_i_1_vs_x_i_Iniciando_'+str(puntos_iniciales[1])+'.png')\n",
      "plt.figure(16)\n",
      "plt.plot(arreglo_i,x_i_1_punto_2)\n",
      "plt.xlabel(\"$i$\")\n",
      "plt.ylabel(\"$x_{i+1}$\")\n",
      "plt.title(\"$x_{i+1}$ vs. $i$ para $x_{i+1} = -4 x_i (x_i - 1 ) $ con punto inicial: \"+str(puntos_iniciales[1]))\n",
      "plt.savefig('Punto_3_b_x_i_1_vs_i_Iniciando_'+str(puntos_iniciales[1])+'.png')\n",
      "plt.show()"
     ],
     "language": "python",
     "metadata": {},
     "outputs": [],
     "prompt_number": 95
    },
    {
     "cell_type": "markdown",
     "metadata": {},
     "source": [
      "Podemos observar que obtenemos un comportamiento oscilatorio, al igual que el numeral anterior. Sin embargo las oscilaciones son mucho mas violentas en este caso. Modificar este factor multiplicatorio (en este caso por una unidad) tiene un gran impacto en el sistema."
     ]
    }
   ],
   "metadata": {}
  }
 ]
}