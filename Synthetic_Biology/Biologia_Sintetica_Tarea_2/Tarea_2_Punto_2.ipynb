{
 "metadata": {
  "name": ""
 },
 "nbformat": 3,
 "nbformat_minor": 0,
 "worksheets": [
  {
   "cells": [
    {
     "cell_type": "code",
     "collapsed": false,
     "input": [
      "#Codigo realizado para completar el razonamiento del punto 2 de la tarea 2 de Biologia Sintetica en el semestre 2015-I en Uniandes\n",
      "#Codigo realizado por Sergio Hernandez"
     ],
     "language": "python",
     "metadata": {},
     "outputs": [],
     "prompt_number": 1
    },
    {
     "cell_type": "code",
     "collapsed": false,
     "input": [
      "import numpy as np\n",
      "import networkx as nx"
     ],
     "language": "python",
     "metadata": {},
     "outputs": [],
     "prompt_number": 2
    },
    {
     "cell_type": "markdown",
     "metadata": {},
     "source": [
      "Importamos la matriz de adjacencia que se fabrico en Excel con base a la imagen adjuntada en la tarea."
     ]
    },
    {
     "cell_type": "code",
     "collapsed": false,
     "input": [
      "matriz_A=np.loadtxt('Tabla_2.tsv')"
     ],
     "language": "python",
     "metadata": {},
     "outputs": [],
     "prompt_number": 4
    },
    {
     "cell_type": "markdown",
     "metadata": {},
     "source": [
      "Ahora obtenemos una matriz de NetworkX con todas las longitudes de todos los menores caminos gracias al comando all_pairs_dijkstra_path_length luego de haber pasado la matriz al formato de NetworkX para su correcto uso."
     ]
    },
    {
     "cell_type": "code",
     "collapsed": false,
     "input": [
      "G = nx.from_numpy_matrix(matriz_A, create_using=nx.DiGraph())\n",
      "matriz_C_Todos=nx.all_pairs_dijkstra_path_length(G)"
     ],
     "language": "python",
     "metadata": {},
     "outputs": [],
     "prompt_number": 29
    },
    {
     "cell_type": "markdown",
     "metadata": {},
     "source": [
      "Los cuatro nodos que nos interesan son PABN2 (Aca, 5), PABN3(Aca, 6), FIPS3(Aca, 9) y PCSF1(Aca, 16)."
     ]
    },
    {
     "cell_type": "markdown",
     "metadata": {},
     "source": [
      "Ahora borremos a PABN2 (Nodo 5) y miremos cuantos caminos cambiaron."
     ]
    },
    {
     "cell_type": "code",
     "collapsed": false,
     "input": [
      "matriz_A_sin_5=np.loadtxt('Tabla_2.tsv')\n",
      "matriz_A_sin_5[:,5]=0.0\n",
      "matriz_A_sin_5[5,:]=0.0\n",
      "G_sin_5 = nx.from_numpy_matrix(matriz_A_sin_5, create_using=nx.DiGraph())\n",
      "matriz_C_sin_5=nx.all_pairs_dijkstra_path_length(G_sin_5)"
     ],
     "language": "python",
     "metadata": {},
     "outputs": [],
     "prompt_number": 77
    },
    {
     "cell_type": "code",
     "collapsed": false,
     "input": [
      "matriz_A_sin_6=np.loadtxt('Tabla_2.tsv')\n",
      "matriz_A_sin_6[:,6]=0.0\n",
      "matriz_A_sin_6[6,:]=0.0\n",
      "G_sin_6 = nx.from_numpy_matrix(matriz_A_sin_6, create_using=nx.DiGraph())\n",
      "matriz_C_sin_6=nx.all_pairs_dijkstra_path_length(G_sin_6)"
     ],
     "language": "python",
     "metadata": {},
     "outputs": [],
     "prompt_number": 78
    },
    {
     "cell_type": "code",
     "collapsed": false,
     "input": [
      "matriz_A_sin_9=np.loadtxt('Tabla_2.tsv')\n",
      "matriz_A_sin_9[:,9]=0.0\n",
      "matriz_A_sin_9[9,:]=0.0\n",
      "G_sin_9 = nx.from_numpy_matrix(matriz_A_sin_9, create_using=nx.DiGraph())\n",
      "matriz_C_sin_9=nx.all_pairs_dijkstra_path_length(G_sin_9)"
     ],
     "language": "python",
     "metadata": {},
     "outputs": [],
     "prompt_number": 79
    },
    {
     "cell_type": "code",
     "collapsed": false,
     "input": [
      "matriz_A_sin_16=np.loadtxt('Tabla_2.tsv')\n",
      "matriz_A_sin_16[:,16]=0.0\n",
      "matriz_A_sin_16[16,:]=0.0\n",
      "G_sin_16 = nx.from_numpy_matrix(matriz_A_sin_16, create_using=nx.DiGraph())\n",
      "matriz_C_sin_16=nx.all_pairs_dijkstra_path_length(G_sin_16)"
     ],
     "language": "python",
     "metadata": {},
     "outputs": [],
     "prompt_number": 80
    },
    {
     "cell_type": "code",
     "collapsed": false,
     "input": [
      "contador_diferencias_5=0\n",
      "contador_diferencias_6=0\n",
      "contador_diferencias_9=0\n",
      "contador_diferencias_16=0\n",
      "for i in range (0,24):\n",
      "    for j in range (0,24):\n",
      "        if (i!=5 and j!=5):\n",
      "            if(matriz_C_Todos[i][j] != matriz_C_sin_5[i][j]):\n",
      "                contador_diferencias_5=contador_diferencias_5+1\n",
      "        if(i!=6 and j!=6):\n",
      "            if(matriz_C_Todos[i][j]!= matriz_C_sin_6[i][j]):\n",
      "                contador_diferencias_6=contador_diferencias_6+1\n",
      "        if(i!=9 and j!=9):\n",
      "            if(matriz_C_Todos[i][j]!= matriz_C_sin_9[i][j]):\n",
      "                contador_diferencias_9=contador_diferencias_9+1\n",
      "        if(i!=16 and j!=16):\n",
      "            if(matriz_C_Todos[i][j]!= matriz_C_sin_16[i][j]):\n",
      "                contador_diferencias_16=contador_diferencias_16+1\n",
      "print \"Numero de caminos minimos cuya longitud fue modificada al eliminar PABN2 fueron: \"+str(contador_diferencias_5)\n",
      "print \"Numero de caminos minimos cuya longitud fue modificada al eliminar PABN3 fueron: \"+str(contador_diferencias_6)\n",
      "print \"Numero de caminos minimos cuya longitud fue modificada al eliminar FIPS3 fueron: \"+str(contador_diferencias_9)\n",
      "print \"Numero de caminos minimos cuya longitud fue modificada al eliminar PCSF1 fueron: \"+str(contador_diferencias_16)"
     ],
     "language": "python",
     "metadata": {},
     "outputs": [
      {
       "output_type": "stream",
       "stream": "stdout",
       "text": [
        "Numero de caminos minimos cuya longitud fue modificada al eliminar PABN2 fueron: 0\n",
        "Numero de caminos minimos cuya longitud fue modificada al eliminar PABN3 fueron: 0\n",
        "Numero de caminos minimos cuya longitud fue modificada al eliminar FIPS3 fueron: 12\n",
        "Numero de caminos minimos cuya longitud fue modificada al eliminar PCSF1 fueron: 8\n"
       ]
      }
     ],
     "prompt_number": 83
    },
    {
     "cell_type": "markdown",
     "metadata": {},
     "source": [
      "Podemos observar que eliminar PABN2 (0) y PABN3 (0) no modifican ninguna longitud de camino minima mientras que eliminar FIPS3 (12) y PCSF1 (8) si. \n",
      "Por lo tanto se puede reorganizar estos nodos en orden de importancia: FIPS3, PCSF1 y PABN2 y PABN3."
     ]
    }
   ],
   "metadata": {}
  }
 ]
}