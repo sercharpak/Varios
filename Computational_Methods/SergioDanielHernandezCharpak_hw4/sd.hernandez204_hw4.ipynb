{
 "metadata": {
  "name": ""
 },
 "nbformat": 3,
 "nbformat_minor": 0,
 "worksheets": [
  {
   "cells": [
    {
     "cell_type": "heading",
     "level": 1,
     "metadata": {},
     "source": [
      "Taller #4 de M\u00e9todos Computacionales\n",
      "FISI 2028, Semestre 2014 - 20\n",
      "\n",
      "Profesor: Jaime Forero"
     ]
    },
    {
     "cell_type": "heading",
     "level": 2,
     "metadata": {},
     "source": [
      "Sergio Daniel Hern\u00e1ndez Charpak\n",
      "C\u00f3digo 200922618"
     ]
    },
    {
     "cell_type": "markdown",
     "metadata": {},
     "source": [
      "Se implement\u00f3 la versi\u00f3n matricial de m\u00ednimos cuadrados en C. Se puede observar en detalle en el archivo <strong>minimos_Cuadrados.c</strong>. Este archivo recibe como par\u00e1metros un archivo de datos de 2 columnas y n filas, y el orden de la operaci\u00f3n a realizar. En el punto 1, podemos observar que el orden de la operaci\u00f3n a realizar es 2 (hay un t\u00e9rmino que est\u00e1 al cuadrado).<br />\n",
      "En el programa se realizan los siguientes pasos:<ul>\n",
      "<li>Se forma la matriz <strong>A</strong>. En este caso ser\u00e1n 38 filas y 3 columnas. Cada fila tendr\u00e1 la forma de: $t^{0}$ $t^{1}$ $t^{2}$ con t siendo el tiempo de la observaci\u00f3n de cada fila.</li>\n",
      "<li>Formamos el vector <strong>Y</strong> formado con las posiciones observadas. Estamos buscando el vector <strong>$X$</strong> tal que <strong>$AX=Y$</strong>.</li>\n",
      "<li>Se calcula su transupuesta <strong>$A^{t}$</strong></li>\n",
      "<li>Se calcula la matriz que ser\u00e1 descompuesta <strong>$M=A^{t}A$</strong></li>\n",
      "<li>Se descompone la matriz usando la descomposici\u00f3n de Cholsky (<em>descrita en http://en.wikipedia.org/wiki/Cholesky_decomposition</em>)y obtenemos <strong>L</strong> </li>\n",
      "<li>Calculamos su transpuesta <strong>$L^{t}$</strong> y obtenemos as\u00ed la igualdad <strong>$L L^{t}=A^{t}A$</strong> </li>\n",
      "<li>Formamos la matriz <strong>$B = A^{t}Y$</strong> </li>\n",
      "<li>Usando el m\u00e9todo de Forward Substitution (<em>descrito en http://mathfaculty.fullerton.edu/mathews/n2003/BackSubstitutionMod.htmlencontramos</em>) el vector <strong>$Z$</strong> con <strong>$LZ=B$</strong></li>\n",
      "<li>Usando el m\u00e9todo de Back Substitution (<em>descrito en http://mathfaculty.fullerton.edu/mathews/n2003/BackSubstitutionMod.htmlencontramos</em>) encontramos el vector deseado <strong>$X$</strong> con <strong>$L^{t}X=Z$</strong></li>\n",
      "<li>Calculamos el n\u00famero que ser\u00e1 usado para filtrar ($\\chi^{2}$ o el coeficiente de correlaci\u00f3n $r$). En este caso usamos <strong>$r$</strong>. M\u00e1s adelante se explicar\u00e1 por qu\u00e9 se tom\u00f3 esta decisi\u00f3n.</li>\n",
      "<li>Formamos el vector resultado conformado por <strong>$X$</strong> y <strong>$r$</strong> y lo retornamos\n",
      "</ul>"
     ]
    },
    {
     "cell_type": "markdown",
     "metadata": {},
     "source": [
      "Empezando, importamos las librer\u00edas que vamos a utilizar. \n",
      "glob es una librer\u00eda para manejar conjuntos de archivos en python\n",
      "subprocess es una librer\u00eda para comunicarse con la terminal desde python."
     ]
    },
    {
     "cell_type": "code",
     "collapsed": false,
     "input": [
      "%pylab inline\n",
      "import matplotlib.pyplot as plt\n",
      "import numpy as np\n",
      "from numpy import pi\n",
      "import glob\n",
      "import subprocess"
     ],
     "language": "python",
     "metadata": {},
     "outputs": [
      {
       "output_type": "stream",
       "stream": "stdout",
       "text": [
        "Populating the interactive namespace from numpy and matplotlib\n"
       ]
      }
     ],
     "prompt_number": 117
    },
    {
     "cell_type": "markdown",
     "metadata": {},
     "source": [
      "Se definen dos funciones para tratar los datos. Efectivamente los datos a los que tenemos acceso tienen dos columnas y n filas (en este caso n=38).\n",
      "Los archivos de matrices manejados por el programa en C son id\u00e9nticos excepto que se insierta la primera fila con las dimensiones de la matriz (en este caso 38 2)."
     ]
    },
    {
     "cell_type": "code",
     "collapsed": false,
     "input": [
      "def writeFirstLine(filename,line):\n",
      "    with open(filename,'r+') as f:\n",
      "        content = f.read()\n",
      "        f.seek(0,0)\n",
      "        f.write(line.rstrip('\\r\\n') + '\\n' + content)\n",
      "def readFirstLine(filename):\n",
      "    with open(filename, 'r') as f:\n",
      "        first_line = f.readline()\n",
      "        return first_line"
     ],
     "language": "python",
     "metadata": {},
     "outputs": [],
     "prompt_number": 118
    },
    {
     "cell_type": "markdown",
     "metadata": {},
     "source": [
      "Ahora pasamos a la parte gruesa del c\u00f3digo en IPython.<br />\n",
      "Primero se compila el archivo de C y se obtiene un conjunto con todos los datos (que se encuentran en la subcarpeta Brahe-3141-f.\n",
      "Se inicializan las variables que se van a usar m\u00e1s adelante (los vectores de Thetas y gravedades filtrados y el n\u00famero de datos que son filtrados.<br />\n",
      "Para manejar todos los datos se utiliz\u00f3 la librer\u00eda <strong>glob</strong>. Para usar comandos de la terminal desde IPython se probaron dos maneras:<ul>\n",
      "<li>La primera, usando ! y el comando (sin embargo esta no permit\u00eda usar variables en el comando</li>\n",
      "<li>La segunda, usando la librer\u00eda <strong>subprocess</strong> que si es m\u00e1s flexible en la formaci\u00f3n del comando as\u00ed como en obtener los resultados de la ejecuci\u00f3n de minimos_Cuadrados.c</li>\n",
      "</ul>\n",
      "Se pasa al ciclo (que ser\u00e1 ejecutado 1000 veces, una por archivo de datos).\n",
      "<ul>\n",
      "<li>Si en la primera l\u00ednea del archivo de datos no est\u00e1n las dimensiones, las escribe (con las dos funciones declaradas previamente)</li>\n",
      "<li>Se obtienen Theta y Phi desde el nombre del archivo</li>\n",
      "<li>Se corre minimos_Cuadrados.c pas\u00e1ndole como argumentos el nombre del archivo y el orden (2)</li>\n",
      "<li>Se obtienen el vector resultado de minimos_Cuadrados.c. Tiene la siguiente forma: [$y_0$,$v_0$,$\\frac{g_0}{2}$,r] con:<ul>\n",
      "<li>$y_0$ la posicion inicial</li>\n",
      "<li>$v_0$ la velocidad inicial</li>\n",
      "<li>$g_0$ la aceleracion de la gravedad en ese punto</li>\n",
      "<li>r el coeficiente de correlacion para este conjunto de datos.</li>\n",
      "</ul>\n",
      "El coeficiente de correlaci\u00f3n sigue la siguiente f\u00f3rmula tomada de http://mathbits.com/MathBits/TISection/Statistics2/correlation.htm:<br />\n",
      "$$r=\\frac{n \\sum\\limits_{i=1}^{n} y_{i}^{datos}y_{i}^{calc} - (\\sum\\limits_{i=1}^{n} y_{i}^{datos})(\\sum\\limits_{i=1}^{n} y_{i}^{calc})}{\\sqrt{n (\\sum\\limits_{i=1}^{n} (y_{i}^{datos})^{2}) - (\\sum\\limits_{i=1}^{n} y_{i}^{datos})^{2}} \\sqrt{n (\\sum\\limits_{i=1}^{n} (y_{i}^{calc})^{2}) - (\\sum\\limits_{i=1}^{n} y_{i}^{calc})^{2}} }$$\n",
      "<br />\n",
      "En el archivo minimos_Cuadrados.c tambi\u00e9n hay un m\u00e9todo que calcula el Chi cuadrado (<em>siguiendo la gu\u00eda de http://en.wikipedia.org/wiki/Goodness_of_fit</em>) donde, Chi cuadrado en nuestro caso es:\n",
      "$$\\chi^{2}=\\sum\\limits_{i=1}^{n} \\frac{(y_{i}^{datos}-y_{i}^{calc})^{2}}{\\sigma^{2}}$$ donde $$\\sigma^{2}=\\frac{(\\sum\\limits_{i=1}^{n} (y_{i}^{datos})^{2})}{n}  - \\left(\\frac{\\sum\\limits_{i=1}^{n} y_{i}^{datos}}{n}\\right)^{2}$$\n",
      "<br />\n",
      "Se prefiri\u00f3 usar el coeficiente de determinaci\u00f3n ($r^{2}$) ya que era m\u00e1s f\u00e1cil sesgar los resultados con este. En el caso de $\\chi^{2}$ se eliminaban todos los datos corruptos cuando $\\chi^{2} > 0.0001$ mientras que con $r^{2} < 0.9$ se obtienen el mismo resultado. En la mayor\u00eda de ejecuciones ambos m\u00e9todos son equivalentes. Se tratan de unos pocos archivos (10 o menos) que son dif\u00edciles de eliminar usando el $\\chi^{2}$.<br />\n",
      "A medida que se va ejecutando el ciclo se van formando los arreglos de resultados a escribir (todos los resultados, resultados corruptos y resultados filtrados). Estos se escriben al finalizar el ciclo en tres archivos diferentes, Resultados_Completos.dat, Resultados_Corruptos.dat y Resultados_filtrados.dat<br />\n",
      "Cada archivos como es descrito en el enunciado agregando una columna con el coeficiente de determinacion $r^{2}$.<br />\n",
      "Cada l\u00ednea tendr\u00e1 entonces la forma: $ \\theta$ $\\phi$ $y_0$ $v_0$ $g_0$ $r^{2}$"
     ]
    },
    {
     "cell_type": "code",
     "collapsed": false,
     "input": [
      "!cc minimos_Cuadrados.c -lm\n",
      "fileset = glob.glob('./Brahe-3141-f/*.dat')\n",
      "nombreArchivoResultados = 'Resultados_Completos.dat'\n",
      "nombreArchivoResultadosCorruptos = 'Resultados_Corruptos.dat'\n",
      "nombreArchivoResultadosFiltrados = 'Resultados_Filtrados.dat'\n",
      "stringTodo=''\n",
      "stringCorrupt=''\n",
      "stringFiltrado=''\n",
      "numDatosFiltrados=0\n",
      "thetasFiltradosSinAjustar=np.zeros(1000) #Vamos a realizar el filtro con los rs y aprovechamos para forma de manera inmediata los vectres a graficar\n",
      "gravedadesFiltradasSinAjustar=np.zeros(1000)\n",
      "for nfile in fileset:\n",
      "    firstLine= readFirstLine(nfile)\n",
      "    valorTeo = '38 2\\n'\n",
      "    if (firstLine!=valorTeo):\n",
      "        writeFirstLine(nfile,'38 2')\n",
      "    #Corremos minimos cuadrados\n",
      "    arregloStrings = nfile.split('_')\n",
      "    theta=float(arregloStrings[2])\n",
      "    phi=float(arregloStrings[4].strip('.dat'))\n",
      "    comando = './a.out '+nfile + ' 2'\n",
      "    process =subprocess.Popen(comando,stdout=subprocess.PIPE, stderr=None, shell=True)\n",
      "    resultsString=process.communicate()\n",
      "    resultados= resultsString[0].split('\\n')\n",
      "    y0=float(resultados[0].strip(' '))\n",
      "    v0=float(resultados[1].strip(' '))\n",
      "    g0=2*float(resultados[2].strip(' '))\n",
      "    r=float(resultados[3].strip(' '))\n",
      "    stringTodo=stringTodo + str(theta)+'  '+str(phi)+'  '+str(y0)+'  '+str(v0)+'  '+str(g0)+'  '+str(r*r)+'\\n'\n",
      "    if(r*r<0.9):\n",
      "        stringCorrupt=stringCorrupt + str(theta)+'  '+str(phi)+'  '+str(y0)+'  '+str(v0)+'  '+str(g0)+'  '+str(r*r)+'\\n'\n",
      "    else:\n",
      "        stringFiltrado=stringFiltrado + str(theta)+'  '+str(phi)+'  '+str(y0)+'  '+str(v0)+'  '+str(g0)+'  '+str(r*r)+'\\n'\n",
      "        thetasFiltradosSinAjustar[numDatosFiltrados]=theta\n",
      "        gravedadesFiltradasSinAjustar[numDatosFiltrados]=g0\n",
      "        numDatosFiltrados=numDatosFiltrados+1\n",
      "fileoutCorrupt = open(nombreArchivoResultadosCorruptos, \"w\");\n",
      "fileoutCorrupt.write(stringCorrupt)\n",
      "fileoutCorrupt.close()\n",
      "fileoutFiltrados = open(nombreArchivoResultadosFiltrados, \"w\");\n",
      "fileoutFiltrados.write(stringFiltrado)\n",
      "fileoutFiltrados.close()\n",
      "fileout = open(nombreArchivoResultados, \"w\");\n",
      "fileout.write(stringTodo)\n",
      "fileout.close()"
     ],
     "language": "python",
     "metadata": {},
     "outputs": [],
     "prompt_number": 119
    },
    {
     "cell_type": "markdown",
     "metadata": {
      "slideshow": {
       "slide_type": "slide"
      }
     },
     "source": [
      "Queda completado as\u00ed el punto 1 del enunciado.</br>\n",
      "En la siguiente celda podemos observar cuantos archivos fueron considerados corruptos y cuantos archivos no."
     ]
    },
    {
     "cell_type": "code",
     "collapsed": false,
     "input": [
      "comandNumArchivosProcesados='wc -l '+nombreArchivoResultados\n",
      "processNumArchivosProcesados =subprocess.Popen(comandNumArchivosProcesados,stdout=subprocess.PIPE, stderr=None, shell=True)\n",
      "numArchivosProcesados=processNumArchivosProcesados.communicate()\n",
      "print 'El numero de archivos procesados fue de: '+str(float(numArchivosProcesados[0].split(' ')[0]))\n",
      "\n",
      "comandNumArchivosCorruptos='wc -l '+nombreArchivoResultadosCorruptos\n",
      "processNumArchivosCorruptos =subprocess.Popen(comandNumArchivosCorruptos,stdout=subprocess.PIPE, stderr=None, shell=True)\n",
      "numArchivosCorruptos=processNumArchivosCorruptos.communicate()\n",
      "print 'El numero de archivos considerados corruptos fue de: '+str(float(numArchivosCorruptos[0].split(' ')[0]))\n",
      "\n",
      "comandNumArchivosFiltrados='wc -l '+nombreArchivoResultadosFiltrados\n",
      "processNumArchivosFiltrados =subprocess.Popen(comandNumArchivosFiltrados,stdout=subprocess.PIPE, stderr=None, shell=True)\n",
      "numArchivosFiltrados=processNumArchivosFiltrados.communicate()\n",
      "print 'El numero de archivos considerados filtrados fue de: '+str(float(numArchivosFiltrados[0].split(' ')[0]))"
     ],
     "language": "python",
     "metadata": {},
     "outputs": [
      {
       "output_type": "stream",
       "stream": "stdout",
       "text": [
        "El numero de archivos procesados fue de: 1000.0\n",
        "El numero de archivos considerados corruptos fue de: 116.0\n",
        "El numero de archivos considerados filtrados fue de: 884.0\n"
       ]
      }
     ],
     "prompt_number": 120
    },
    {
     "cell_type": "markdown",
     "metadata": {},
     "source": [
      "Pasamos ahora a realizar una gr\u00e1fica de los valores de la gravedad como funci\u00f3n del \u00e1ngulo polar $\\theta$, descartando los resultados de archivos con datos corruptos, el punto 2.</br>\n",
      "Para facilitar este punto, en el punto anterior se fue formando un arreglo con los valores de $\\theta$ y otro arreglo con los valores de $g_0$ para los resultados con archivos que pasaron el filtro.</br>\n",
      "En la siguiente celda: <ul>\n",
      "<li>Se ajustan los arreglos (antes eran arreglos de 1000 posiciones (n\u00famero m\u00e1ximo de archivos), se ajustan para que tengan como tama\u00f1o el n\u00famero de archivos que fueron filtrados).</li>\n",
      "<li>Se grafica $g_0$ vs $\\theta$ \n",
      "</ul>"
     ]
    },
    {
     "cell_type": "code",
     "collapsed": false,
     "input": [
      "#Ahora cargamos Thetas y g0 desde los datos filtrados y graficamos\n",
      "#Carguemos ahora los Thetas y los g0 para graficar\n",
      "#Ya estan cargados en memoria! en la variable stringFiltrado\n",
      "todasLasLineas =  stringFiltrado.split('\\n')\n",
      "thetasFiltrados=np.zeros(numDatosFiltrados)\n",
      "gravedadesFiltradas=np.zeros(numDatosFiltrados)\n",
      "for i in range(0,numDatosFiltrados):\n",
      "    thetasFiltrados[i]=thetasFiltradosSinAjustar[i]\n",
      "    gravedadesFiltradas[i]=gravedadesFiltradasSinAjustar[i]\n",
      "#Ya tenemos los datos, ahora podemos graficar las gravedades vs los thetas\n",
      "plt.title('g0 vs Theta - Mediciones de la Gravedad de Brahe3141-f')\n",
      "plt.xlabel('Theta (grados)')\n",
      "plt.ylabel('g0 (m^2)')\n",
      "plt.xlim(0.0,180.0);\n",
      "plt.ylim(-7.5,-10.0);\n",
      "plt.scatter(thetasFiltrados, gravedadesFiltradas)\n",
      "plt.show()"
     ],
     "language": "python",
     "metadata": {},
     "outputs": [
      {
       "metadata": {},
       "output_type": "display_data",
       "png": "[encoded data removed]",
       "text": [
        "<matplotlib.figure.Figure at 0x2f9c7d0>"
       ]
      }
     ],
     "prompt_number": 121
    },
    {
     "cell_type": "markdown",
     "metadata": {},
     "source": [
      "Queda completado as\u00ed el punto 2 del enunciado.</br>\n",
      "Podemos observar que la aceleraci\u00f3n de la gravedad de Brahe3141-f es m\u00e1s grande en sus polos (cuando $\\theta \\rightarrow 0\u00b0  $ y $\\theta \\rightarrow 180\u00b0$) que en su ecuador (cuando $\\theta \\rightarrow 90\u00b0 $). En la tierra se obtienen resultados similares (http://www.newscientist.com/article/dn24068-gravity-map-reveals-earths-extremes.html#.VDQR9uGUx0w)."
     ]
    },
    {
     "cell_type": "markdown",
     "metadata": {},
     "source": [
      "Pasamos ahora a preparar una lista de las variaciones de la gravedad parametrizada por\n",
      "$$F =1\u2212 \\frac{g_0}{\\langle g_0 \\rangle}$$\n",
      "en funci\u00f3n del \u00e1ngulo polar $\\theta$ y mostrarlas en una gr\u00e1fica, donde $\\langle g_0 \\rangle$ es el valor medio de todas las mediciones de $g_0$. (punto3)</br>\n",
      "Procedemos entonces en la siguiente celda a:<ul>\n",
      "<li>Calcular $\\langle g_0 \\rangle$</li>\n",
      "<li>Calcular $F =1\u2212 \\frac{g_0}{\\langle g_0 \\rangle}$ para cada valor de $g_0$</li>\n",
      "<li>Graficar $F$ vs $\\theta$ \n",
      "</ul>\n",
      "\n"
     ]
    },
    {
     "cell_type": "code",
     "collapsed": false,
     "input": [
      "#Ahora Calculamos el promedio de los g0\n",
      "sumg0=0.0\n",
      "for i in range(0,numDatosFiltrados):\n",
      "    sumg0=sumg0+gravedadesFiltradas[i]\n",
      "g0Prom=sumg0/numDatosFiltrados\n",
      "#Ahora Calculamos a F\n",
      "F=np.zeros(numDatosFiltrados)\n",
      "for i in range(0,numDatosFiltrados):\n",
      "    F[i]=1.0-(gravedadesFiltradas[i]/g0Prom)\n",
      "#Y ahora graficamos a F vs Theta\n",
      "plt.title('F vs Theta - Variaciones de la Gravedad Parametrizada de Brahe3141-f')\n",
      "plt.xlabel('Theta (grados)')\n",
      "plt.ylabel('F (sin unidades)')\n",
      "plt.xlim(0.0,180.0);\n",
      "plt.ylim(-0.2,0.15);\n",
      "plt.scatter(thetasFiltrados, F)\n",
      "plt.show()"
     ],
     "language": "python",
     "metadata": {},
     "outputs": [
      {
       "metadata": {},
       "output_type": "display_data",
       "png": "[encoded data removed]",
       "text": [
        "<matplotlib.figure.Figure at 0x34618d0>"
       ]
      }
     ],
     "prompt_number": 122
    },
    {
     "cell_type": "markdown",
     "metadata": {},
     "source": [
      "Queda completado as\u00ed el punto 3 del enunciado.</br>\n",
      "Podemos observar que el valor absoluto de la gravedad parametrizada var\u00eda igualmente m\u00e1s en los polos que en el ecuador. "
     ]
    },
    {
     "cell_type": "markdown",
     "metadata": {},
     "source": [
      "Nos preparamos ahora para realizar el punto 4 del enunciado.</br>\n",
      "Se busca encontrar el modelo que describa mejor los datos de F entre los modelos A y B con:<ul>\n",
      "<li>Modelo A:  $F=a_0 cos (2 \\theta) + a_1$</li>\n",
      "<li>Modelo B:  $F=b_0 +b_1 \\theta+b_2 \\theta^{2}$</li>\n",
      "</ul>\n",
      "Podemos observar que el modelo A es de orden 1 con variable $cos (2 \\theta)$ y el modelo B es de orden 2 con variable $\\theta$.</br>\n",
      "Prerparamos entonces dos archivos de datos, datosModelo_A_Punto3.dat y datosModelo_B_Punto3.dat. Ambos tendr\u00e1n el n\u00famero de datos filtrados filas y 2 columnas (tendr\u00e1n una fila m\u00e1s que especifica las dimensiones). La primera columna de datosModelo_A_Punto3.dat tendr\u00e1 los valores de $cos (2 \\theta)$ y a primera columna de datosModelo_A_Punto3.dat tendr\u00e1 los valores de $\\theta$. La segunda columna de ambos archivos tendr\u00e1 los valores de F.</br>"
     ]
    },
    {
     "cell_type": "code",
     "collapsed": false,
     "input": [
      "#Ahora nos preparamos para hacer minimos cuadrados para evaluar los dos casos. \n",
      "#Luego comparararemos los coeficientes de determinacion\n",
      "#Formemos la matriz de datos de entrada con Theta en la primera columna y F en la segunda\n",
      "nombreArchivoDatosModeloAPunto3 = 'datosModelo_A_Punto3.dat'\n",
      "nombreArchivoDatosModeloBPunto3 = 'datosModelo_B_Punto3.dat'\n",
      "stringDatosModeloAPunto3=str(numDatosFiltrados)+' 2'+'\\n'\n",
      "stringDatosModeloBPunto3=str(numDatosFiltrados)+' 2'+'\\n'\n",
      "for i in range(0,numDatosFiltrados):\n",
      "        stringDatosModeloAPunto3=stringDatosModeloAPunto3 + str(np.cos(2*((np.pi/180.0)*thetasFiltrados[i])))+'  '+str(F[i])+'\\n'\n",
      "        stringDatosModeloBPunto3=stringDatosModeloBPunto3 + str(thetasFiltrados[i])+'  '+str(F[i])+'\\n'\n",
      "fileoutDatosModeloA3 = open(nombreArchivoDatosModeloAPunto3, \"w\");\n",
      "fileoutDatosModeloA3.write(stringDatosModeloAPunto3)\n",
      "fileoutDatosModeloA3.close()\n",
      "fileoutDatosModeloB3 = open(nombreArchivoDatosModeloBPunto3, \"w\");\n",
      "fileoutDatosModeloB3.write(stringDatosModeloBPunto3)\n",
      "fileoutDatosModeloB3.close()"
     ],
     "language": "python",
     "metadata": {},
     "outputs": [],
     "prompt_number": 123
    },
    {
     "cell_type": "markdown",
     "metadata": {},
     "source": [
      "Una vez formados los archivos, ejecutamos el archivos <strong>minimos_Cuadrados.c</strong> para cada uno teniendo cuidado que para el modelo A el orden es 1 y para el modelo B el orden es 2.</br>\n",
      "Obtenemos el vector de resultados (que tiene el par\u00e1metro de filtro en su \u00faltima posici\u00f3n) para cada uno de los modelos y escribimos los resultados de ambos modelos en los archivos Resultados_A_Punto3.dat y Resultados_B_Punto3.dat."
     ]
    },
    {
     "cell_type": "code",
     "collapsed": false,
     "input": [
      "#Nos preparamos para ejecutar para el modelo A\n",
      "comandoModeloA = './a.out '+nombreArchivoDatosModeloAPunto3 + ' 1'\n",
      "processA =subprocess.Popen(comandoModeloA,stdout=subprocess.PIPE, stderr=None, shell=True)\n",
      "resultsStringA=processA.communicate()\n",
      "resultadosA= resultsStringA[0].split('\\n')\n",
      "a0=float(resultadosA[0].strip(' '))\n",
      "a1=float(resultadosA[1].strip(' '))\n",
      "rA=float(resultadosA[2].strip(' '))\n",
      "#Nos preparamos para ejecutar para el modelo B\n",
      "comandoModeloB = './a.out '+nombreArchivoDatosModeloBPunto3 + ' 2'\n",
      "processB =subprocess.Popen(comandoModeloB,stdout=subprocess.PIPE, stderr=None, shell=True)\n",
      "resultsStringB=processB.communicate()\n",
      "resultadosB= resultsStringB[0].split('\\n')\n",
      "b0=float(resultadosB[0].strip(' '))\n",
      "b1=float(resultadosB[1].strip(' '))\n",
      "b2=float(resultadosB[2].strip(' '))\n",
      "rB=float(resultadosB[3].strip(' '))\n",
      "#Escribimos los resultados\n",
      "nombreArchivoResultadosModeloAPunto3='Resultados_A_Punto3.dat'\n",
      "nombreArchivoResultadosModeloBPunto3='Resultados_B_Punto3.dat'\n",
      "stringResultadosModeloAPunto3=str(a0)+'  '+str(a1)+'  '+str(rA*rA)\n",
      "stringResultadosModeloBPunto3=str(b0)+'  '+str(b1)+'  '+str(b2)+'  '+str(rB*rB)\n",
      "fileoutResultadosModeloA3 = open(nombreArchivoResultadosModeloAPunto3, \"w\");\n",
      "fileoutResultadosModeloA3.write(stringResultadosModeloAPunto3)\n",
      "fileoutResultadosModeloA3.close()\n",
      "fileoutResultadosModeloB3 = open(nombreArchivoResultadosModeloBPunto3, \"w\");\n",
      "fileoutResultadosModeloB3.write(stringResultadosModeloBPunto3)\n",
      "fileoutResultadosModeloB3.close()"
     ],
     "language": "python",
     "metadata": {},
     "outputs": [],
     "prompt_number": 124
    },
    {
     "cell_type": "markdown",
     "metadata": {},
     "source": [
      "Comparamos ahora el par\u00e1metro de filtro, el coeficiente de determinaci\u00f3n $r^2$ de ambos modelos para observar cual de los dos se ajusta mejor al sistema."
     ]
    },
    {
     "cell_type": "code",
     "collapsed": false,
     "input": [
      "#Comparemos el modelo A y B\n",
      "#El que tenga el r mas cercano a 1 es el modelo que describe mejor el sistema\n",
      "if((rA*rA)>(rB*rB)):\n",
      "    #El modelo A es mejor que el modelo B\n",
      "    print 'El mejor modelo es el modelo A con constantes: a0='+str(a0)+' a1='+str(a1)+' y r^2='+str(rA*rA)+'\\n'\n",
      "    print 'El modelo B no fue igual de bueno con constantes: b0='+str(b0)+' b1='+str(b1)+' b2='+str(b2)+' y r^2='+str(rB*rB)\n",
      "elif((rB*rB)>(rA*rA)):\n",
      "    #El modelo B es mejor que el modelo A\n",
      "    print 'El mejor modelo es el modelo B con constantes: b0='+str(b0)+' b1='+str(b1)+' b2='+str(b2)+' y r^2='+str(rB)+'\\n'\n",
      "    print 'El modelo A no fue igual de bueno con constantes: a0='+str(a0)+' a1='+str(a1)+' y r^2='+str(rA)\n",
      "else:\n",
      "    #Ambos modelos son equivalentes\n",
      "    print 'Ambos modelos son equivalentes con un r^2='+str(rA*rB)"
     ],
     "language": "python",
     "metadata": {},
     "outputs": [
      {
       "output_type": "stream",
       "stream": "stdout",
       "text": [
        "El mejor modelo es el modelo A con constantes: a0=-0.032856 a1=-0.103778 y r^2=0.941808139024\n",
        "\n",
        "El modelo B no fue igual de bueno con constantes: b0=-0.23707 b1=0.006435 b2=-3.5e-05 y r^2=0.904830903076\n"
       ]
      }
     ],
     "prompt_number": 125
    },
    {
     "cell_type": "markdown",
     "metadata": {},
     "source": [
      "Podemos observar que ambos modelos son relativamente buenos (con $r^2 >0.9$). Sin embargo, el modelo A describe mejor al sistema ($r^2_A>r^2_B$)."
     ]
    }
   ],
   "metadata": {}
  }
 ]
}