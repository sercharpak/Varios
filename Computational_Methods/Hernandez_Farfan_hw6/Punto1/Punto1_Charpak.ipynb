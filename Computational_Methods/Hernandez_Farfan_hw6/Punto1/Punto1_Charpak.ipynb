{
 "metadata": {
  "name": ""
 },
 "nbformat": 3,
 "nbformat_minor": 0,
 "worksheets": [
  {
   "cells": [
    {
     "cell_type": "code",
     "collapsed": false,
     "input": [
      "import numpy as np\n",
      "import matplotlib.pyplot as plt\n",
      "from matplotlib.backends.backend_pdf import PdfPages\n",
      "import sys\n"
     ],
     "language": "python",
     "metadata": {},
     "outputs": [],
     "prompt_number": "*"
    },
    {
     "cell_type": "code",
     "collapsed": false,
     "input": [
      "nombreArchivo=(sys.argv[1])\n",
      "#nombreArchivo='poblaciones_20.000000_30.000000.dat'\n",
      "arregloStrings = nombreArchivo.split('_')\n",
      "x0=float(arregloStrings[1])\n",
      "y0=float(arregloStrings[2].strip('.dat'))\n",
      "data=np.loadtxt(nombreArchivo)\n",
      "t=data[:,0]\n",
      "x=data[:,1]\n",
      "xmax=max(x)\n",
      "xmin=min(x)\n",
      "y=data[:,2]\n",
      "ymax=max(y)\n",
      "ymin=min(y)"
     ],
     "language": "python",
     "metadata": {},
     "outputs": [],
     "prompt_number": 26
    },
    {
     "cell_type": "code",
     "collapsed": false,
     "input": [
      "fig = plt.figure()\n",
      "ax = plt.axes(xlim=(xmin, xmax), ylim=(ymin, ymax))\n",
      "plt.xlabel('x - Presas')\n",
      "plt.ylabel('y - Predadores')\n",
      "plt.title('Poblacion Predadores vs Presas para condiciones iniciales x0='+str(x0)+' y y0='+str(y0))\n",
      "plt.grid()\n",
      "plt.plot(x,y)\n",
      "pp = PdfPages(nombreArchivo.strip('.dat')+'.pdf')\n",
      "pp.savefig(fig)\n",
      "pp.close()\n",
      "#plt.show()"
     ],
     "language": "python",
     "metadata": {},
     "outputs": [],
     "prompt_number": 27
    },
    {
     "cell_type": "code",
     "collapsed": false,
     "input": [
      "\"\"\"\n",
      "#En este caso no me interesa la animacion\n",
      "import matplotlib.animation as animation\n",
      "line, = ax.plot([], [], lw=2)\n",
      "def init():\n",
      "    line.set_data([], [])\n",
      "    return line,\n",
      "# Funcion de Animacion\n",
      "tam=len(t)\n",
      "def animate(i):\n",
      "    line.set_data(x, y)\n",
      "    plt.grid()\n",
      "    return line,\n",
      "anim = animation.FuncAnimation(fig, animate, init_func=init,\n",
      "                               frames=tam-1, interval=20, blit=True,repeat=False)\n",
      "\"\"\""
     ],
     "language": "python",
     "metadata": {},
     "outputs": [],
     "prompt_number": 12
    },
    {
     "cell_type": "code",
     "collapsed": false,
     "input": [],
     "language": "python",
     "metadata": {},
     "outputs": []
    }
   ],
   "metadata": {}
  }
 ]
}